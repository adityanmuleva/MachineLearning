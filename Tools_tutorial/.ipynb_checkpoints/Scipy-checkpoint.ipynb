{
 "cells": [
  {
   "cell_type": "code",
   "execution_count": null,
   "metadata": {},
   "outputs": [],
   "source": [
    "# scietific python \n",
    "# cluster        Clustering algorithms\n",
    "# constants     Physical and mathematical constants\n",
    "# fftpack       Fast Fourier Transform routines\n",
    "# integrate       Integration and ordinary differential equation solvers\n",
    "# interpolate      Interpolation and smoothing splines\n",
    "# io            Input and Output\n",
    "# linalg         Linear algebra\n",
    "# ndimage          N-dimensional image processing\n",
    "# odr             Orthogonal distance regression\n",
    "# optimize     Optimization and root-finding routines\n",
    "# signal       Signal processing\n",
    "# sparse      Sparse matrices and associated routines\n",
    "# spatial    Spatial data structures and algorithms\n",
    "# special   Special functions\n",
    "# stats    Statistical distributions and functions"
   ]
  },
  {
   "cell_type": "code",
   "execution_count": 8,
   "metadata": {},
   "outputs": [
    {
     "data": {
      "text/plain": [
       "64.0"
      ]
     },
     "execution_count": 8,
     "metadata": {},
     "output_type": "execute_result"
    }
   ],
   "source": [
    "from scipy import integrate\n",
    "a, b = scipy.integrate.quad(lambda x : x **3, 0,4)\n",
    "a"
   ]
  },
  {
   "cell_type": "code",
   "execution_count": 12,
   "metadata": {},
   "outputs": [
    {
     "name": "stdout",
     "output_type": "stream",
     "text": [
      "[[0.27819172 0.71725478 0.10917917]\n",
      " [0.85085247 0.8376102  0.10329171]\n",
      " [0.67729377 0.17274112 0.70242258]]\n",
      "********************************************************************************\n",
      "[[-2.14741998  1.82538101  0.06535498]\n",
      " [ 1.98626593 -0.45718357 -0.24150078]\n",
      " [ 1.58213075 -1.64764746  1.42001784]]\n"
     ]
    }
   ],
   "source": [
    "import numpy as np\n",
    "from scipy import linalg \n",
    "a = np.random.rand(3,3)\n",
    "print(a)\n",
    "print('*'*80)\n",
    "b = scipy.linalg.inv(a)\n",
    "print(b)"
   ]
  },
  {
   "cell_type": "code",
   "execution_count": 14,
   "metadata": {},
   "outputs": [
    {
     "name": "stdout",
     "output_type": "stream",
     "text": [
      "[[0.95775712 0.28286493 0.61001369]\n",
      " [0.239654   0.48643668 0.80046372]\n",
      " [0.08282867 0.35890005 0.47908916]]\n",
      "********************************************************************************\n",
      "[ 1.34165619+0.j  0.62657015+0.j -0.04494337+0.j]\n"
     ]
    }
   ],
   "source": [
    "import numpy as np\n",
    "from scipy import linalg\n",
    "a = np.random.rand(3,3)\n",
    "print(a)\n",
    "print('*'*80)\n",
    "b = scipy.linalg.eigvals(a)\n",
    "print(b)"
   ]
  },
  {
   "cell_type": "code",
   "execution_count": 37,
   "metadata": {},
   "outputs": [
    {
     "name": "stdout",
     "output_type": "stream",
     "text": [
      "(0.010416666666666668, 4.101620128472366e-16)\n",
      "0.010416666666666666\n"
     ]
    }
   ],
   "source": [
    "def infunction(x,y):\n",
    "    return x*y\n",
    "def lim_Y():\n",
    "    return [0,1/2]\n",
    "def lim_X(y):\n",
    "    return [0, 1-2*y]\n",
    "\n",
    "a = integrate.nquad(infunction, [lim_X, lim_Y])\n",
    "print(a)"
   ]
  },
  {
   "cell_type": "code",
   "execution_count": 49,
   "metadata": {},
   "outputs": [
    {
     "data": {
      "text/plain": [
       "(192.0, 2.1316282072803006e-12)"
      ]
     },
     "execution_count": 49,
     "metadata": {},
     "output_type": "execute_result"
    }
   ],
   "source": [
    "from scipy import integrate\n",
    "def myintegration(x):\n",
    "    \n",
    "    return 3*x**3\n",
    "def lim_X():\n",
    "    return[0,4]\n",
    "\n",
    "a = integrate.nquad(myintegration, [lim_X])\n",
    "a"
   ]
  },
  {
   "cell_type": "code",
   "execution_count": 68,
   "metadata": {},
   "outputs": [
    {
     "name": "stderr",
     "output_type": "stream",
     "text": [
      "/home/aaditya/anaconda3/lib/python3.7/site-packages/numpy/core/numeric.py:538: ComplexWarning: Casting complex values to real discards the imaginary part\n",
      "  return array(a, dtype, copy=False, order=order)\n"
     ]
    },
    {
     "data": {
      "image/png": "[encoded data removed]",
      "text/plain": [
       "<Figure size 432x288 with 1 Axes>"
      ]
     },
     "metadata": {
      "needs_background": "light"
     },
     "output_type": "display_data"
    }
   ],
   "source": [
    "from scipy import fftpack\n",
    "import matplotlib.pyplot as plt\n",
    "plt.style.use(\"ggplot\")\n",
    "#plt.style.available\n",
    "%matplotlib inline\n",
    "a = np.array([1,2,3,4,5,6,7,8])\n",
    "b = fftpack.fft(a)\n",
    "c = fftpack.ifft(a)\n",
    "plt.plot(a)\n",
    "plt.plot(b)\n",
    "plt.plot(c)\n",
    "plt.legend([\"Function\",\"FFT\",\"Inv. FFT\" ])\n",
    "plt.show()"
   ]
  },
  {
   "cell_type": "code",
   "execution_count": 70,
   "metadata": {},
   "outputs": [
    {
     "data": {
      "image/png": "[encoded data removed]",
      "text/plain": [
       "<Figure size 432x288 with 1 Axes>"
      ]
     },
     "metadata": {
      "needs_background": "light"
     },
     "output_type": "display_data"
    }
   ],
   "source": [
    "from scipy.fftpack import fftfreq\n",
    "freq = fftfreq(8, 0.123)\n",
    "plt.plot(freq)\n",
    "plt.show()\n"
   ]
  },
  {
   "cell_type": "code",
   "execution_count": 71,
   "metadata": {},
   "outputs": [
    {
     "ename": "AttributeError",
     "evalue": "module 'numpy' has no attribute 'arrange'",
     "output_type": "error",
     "traceback": [
      "\u001b[0;31m---------------------------------------------------------------------------\u001b[0m",
      "\u001b[0;31mAttributeError\u001b[0m                            Traceback (most recent call last)",
      "\u001b[0;32m<ipython-input-71-81e8230939c7>\u001b[0m in \u001b[0;36m<module>\u001b[0;34m\u001b[0m\n\u001b[1;32m      1\u001b[0m \u001b[0;32mfrom\u001b[0m \u001b[0mscipy\u001b[0m\u001b[0;34m.\u001b[0m\u001b[0mfftpack\u001b[0m \u001b[0;32mimport\u001b[0m \u001b[0mfftshift\u001b[0m\u001b[0;34m\u001b[0m\u001b[0;34m\u001b[0m\u001b[0m\n\u001b[0;32m----> 2\u001b[0;31m \u001b[0mx\u001b[0m \u001b[0;34m=\u001b[0m \u001b[0mnp\u001b[0m\u001b[0;34m.\u001b[0m\u001b[0marrange\u001b[0m\u001b[0;34m(\u001b[0m\u001b[0;36m8\u001b[0m\u001b[0;34m)\u001b[0m\u001b[0;34m\u001b[0m\u001b[0;34m\u001b[0m\u001b[0m\n\u001b[0m\u001b[1;32m      3\u001b[0m \u001b[0mv\u001b[0m \u001b[0;34m=\u001b[0m \u001b[0mfftshift\u001b[0m\u001b[0;34m(\u001b[0m\u001b[0mx\u001b[0m\u001b[0;34m)\u001b[0m\u001b[0;34m\u001b[0m\u001b[0;34m\u001b[0m\u001b[0m\n\u001b[1;32m      4\u001b[0m \u001b[0mplt\u001b[0m\u001b[0;34m.\u001b[0m\u001b[0mplot\u001b[0m\u001b[0;34m(\u001b[0m\u001b[0mv\u001b[0m\u001b[0;34m)\u001b[0m\u001b[0;34m\u001b[0m\u001b[0;34m\u001b[0m\u001b[0m\n\u001b[1;32m      5\u001b[0m \u001b[0mplt\u001b[0m\u001b[0;34m.\u001b[0m\u001b[0mshow\u001b[0m\u001b[0;34m(\u001b[0m\u001b[0;34m)\u001b[0m\u001b[0;34m\u001b[0m\u001b[0;34m\u001b[0m\u001b[0m\n",
      "\u001b[0;31mAttributeError\u001b[0m: module 'numpy' has no attribute 'arrange'"
     ]
    }
   ],
   "source": [
    "from scipy.fftpack import fftshift\n",
    "x = np.arange(8)\n",
    "v = fftshift(x)\n",
    "plt.plot(v)\n",
    "plt.show()"
   ]
  }
 ],
 "metadata": {
  "kernelspec": {
   "display_name": "Python 3",
   "language": "python",
   "name": "python3"
  },
  "language_info": {
   "codemirror_mode": {
    "name": "ipython",
    "version": 3
   },
   "file_extension": ".py",
   "mimetype": "text/x-python",
   "name": "python",
   "nbconvert_exporter": "python",
   "pygments_lexer": "ipython3",
   "version": "3.7.3"
  }
 },
 "nbformat": 4,
 "nbformat_minor": 2
}
