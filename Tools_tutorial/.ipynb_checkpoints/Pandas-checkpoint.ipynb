{
 "cells": [
  {
   "cell_type": "code",
   "execution_count": 1,
   "metadata": {},
   "outputs": [],
   "source": [
    "import pandas as pd"
   ]
  },
  {
   "cell_type": "code",
   "execution_count": 2,
   "metadata": {},
   "outputs": [
    {
     "data": {
      "text/plain": [
       "Two      2\n",
       "Four     4\n",
       "Six      6\n",
       "Eight    8\n",
       "dtype: int64"
      ]
     },
     "execution_count": 2,
     "metadata": {},
     "output_type": "execute_result"
    }
   ],
   "source": [
    "a = pd.Series([2,4,6,8], index=[\"Two\",\"Four\",\"Six\", \"Eight\"])\n",
    "a"
   ]
  },
  {
   "cell_type": "code",
   "execution_count": 49,
   "metadata": {},
   "outputs": [
    {
     "ename": "TypeError",
     "evalue": "'method' object does not support item assignment",
     "output_type": "error",
     "traceback": [
      "\u001b[0;31m---------------------------------------------------------------------------\u001b[0m",
      "\u001b[0;31mTypeError\u001b[0m                                 Traceback (most recent call last)",
      "\u001b[0;32m<ipython-input-49-0d456da57515>\u001b[0m in \u001b[0;36m<module>\u001b[0;34m\u001b[0m\n\u001b[1;32m      8\u001b[0m \u001b[0;31m# pd.read_csv(\"Panda_data.csv\")\u001b[0m\u001b[0;34m\u001b[0m\u001b[0;34m\u001b[0m\u001b[0;34m\u001b[0m\u001b[0m\n\u001b[1;32m      9\u001b[0m \u001b[0;34m\u001b[0m\u001b[0m\n\u001b[0;32m---> 10\u001b[0;31m \u001b[0mdf\u001b[0m\u001b[0;34m.\u001b[0m\u001b[0mupdate\u001b[0m\u001b[0;34m[\u001b[0m\u001b[0;36m0\u001b[0m\u001b[0;34m,\u001b[0m\u001b[0;34m'Class'\u001b[0m\u001b[0;34m]\u001b[0m \u001b[0;34m=\u001b[0m \u001b[0;36m6\u001b[0m\u001b[0;34m\u001b[0m\u001b[0;34m\u001b[0m\u001b[0m\n\u001b[0m\u001b[1;32m     11\u001b[0m \u001b[0mdf\u001b[0m\u001b[0;34m\u001b[0m\u001b[0;34m\u001b[0m\u001b[0m\n",
      "\u001b[0;31mTypeError\u001b[0m: 'method' object does not support item assignment"
     ]
    }
   ],
   "source": [
    "# Writing a dataframe file in csv\n",
    "data = {\"Name\":[\"Aaditya\", \"Arpita\",\"Krishna\"], \"Class\" :[12,11,10],\n",
    "        \"Hobbies\":[\"Playing sports\", \"Classified\", \"Weeping\"]}\n",
    "df = pd.DataFrame(data, columns=[\"Name\", \"Class\", \"Hobbies\"])\n",
    "# df.to_csv(\"Panda_data.csv\")\n",
    "\n",
    "# Reading a csv file\n",
    "# pd.read_csv(\"Panda_data.csv\")\n",
    "\n",
    "df.at[0,'Class'] = 6\n",
    "df"
   ]
  },
  {
   "cell_type": "code",
   "execution_count": 19,
   "metadata": {
    "scrolled": true
   },
   "outputs": [
    {
     "name": "stdout",
     "output_type": "stream",
     "text": [
      "Two      2\n",
      "Four     4\n",
      "Six      6\n",
      "Eight    9\n",
      "dtype: int64\n",
      "<class 'pandas.core.frame.DataFrame'>\n",
      "RangeIndex: 3 entries, 0 to 2\n",
      "Data columns (total 3 columns):\n",
      "Name       3 non-null object\n",
      "Class      3 non-null int64\n",
      "Hobbies    3 non-null object\n",
      "dtypes: int64(1), object(2)\n",
      "memory usage: 152.0+ bytes\n"
     ]
    },
    {
     "data": {
      "text/plain": [
       "Name       3\n",
       "Class      3\n",
       "Hobbies    3\n",
       "dtype: int64"
      ]
     },
     "execution_count": 19,
     "metadata": {},
     "output_type": "execute_result"
    }
   ],
   "source": [
    "b = pd.Series([2,4,6,8], index=[\"Two\",\"Four\",\"Six\", \"Eight\"])\n",
    "\n",
    "#b[\"Two\"]\n",
    "#df.iloc[[1],[1]]\n",
    "#df.loc[[1],[\"Class\"]]\n",
    "#df.ix[1,\"Hobbies\"]\n",
    "\n",
    "# Setting index of \"Eight\" to 9\n",
    "\n",
    "b[\"Eight\"] = 9\n",
    "print(b)\n",
    "df.shape\n",
    "df.index\n",
    "df.columns\n",
    "df.info()\n",
    "df.count()"
   ]
  },
  {
   "cell_type": "code",
   "execution_count": 5,
   "metadata": {},
   "outputs": [],
   "source": [
    "# df.shape\n",
    "# df.index\n",
    "# df.columns\n",
    "# df.info()\n",
    "# df.count()\n",
    "\n",
    "# df.sum()\n",
    "# df.cumsum()\n",
    "# df.min()\n",
    "# df.max()\n",
    "# df.idxmin()\n",
    "# df.idxmax()\n",
    "# df.describe()\n",
    "# df.mean()\n",
    "# df.median()"
   ]
  },
  {
   "cell_type": "code",
   "execution_count": 6,
   "metadata": {},
   "outputs": [
    {
     "name": "stdout",
     "output_type": "stream",
     "text": [
      "('Date', 0    01-07-2019\n",
      "1    02-07-2019\n",
      "2    03-07-2019\n",
      "Name: Date, dtype: object)\n"
     ]
    }
   ],
   "source": [
    "data = {\"Date\":[\"01-07-2019\", \"02-07-2019\", \"03-07-2019\"], \"Type\":['a','b','c'], \"Value\":[1,2,3]}\n",
    "df2 = pd.DataFrame(data, columns=[\"Date\", \"Type\", \"Value\"])\n",
    "#df3= df2.pivot(index='Date', columns='Type', values='Value')\n",
    "row = next(df2.iteritems())\n",
    "print(row)"
   ]
  },
  {
   "cell_type": "code",
   "execution_count": null,
   "metadata": {},
   "outputs": [],
   "source": []
  }
 ],
 "metadata": {
  "kernelspec": {
   "display_name": "Python 3",
   "language": "python",
   "name": "python3"
  },
  "language_info": {
   "codemirror_mode": {
    "name": "ipython",
    "version": 3
   },
   "file_extension": ".py",
   "mimetype": "text/x-python",
   "name": "python",
   "nbconvert_exporter": "python",
   "pygments_lexer": "ipython3",
   "version": "3.7.3"
  }
 },
 "nbformat": 4,
 "nbformat_minor": 2
}
