{
 "cells": [
  {
   "cell_type": "code",
   "execution_count": 1,
   "metadata": {},
   "outputs": [
    {
     "name": "stderr",
     "output_type": "stream",
     "text": [
      "[nltk_data] Downloading package punkt to\n",
      "[nltk_data]     C:\\Users\\Aaditya\\AppData\\Roaming\\nltk_data...\n",
      "[nltk_data]   Package punkt is already up-to-date!\n"
     ]
    }
   ],
   "source": [
    "import nltk\n",
    "from nltk.tag.stanford import StanfordNERTagger\n",
    "jar = 'C:/Users/Aaditya/Anaconda_Ml/NLP/NER/stanford-ner-4.0.0/stanford-ner.jar'\n",
    "model = 'C:/Users/Aaditya/Anaconda_Ml/NLP/NER/stanford-ner-4.0.0/classifiers/english.muc.7class.distsim.crf.ser.gz'"
   ]
  },
  {
   "cell_type": "code",
   "execution_count": 2,
   "metadata": {},
   "outputs": [],
   "source": [
    "text = \"\"\"Mahendra Singh Dhoni (born 7 July 1981), is a former Indian international cricketer who captained the Indian national\n",
    "team in limited-overs formats from 2007 to 2016 and in Test cricket from 2008 to 2014. Under his captaincy, India won the \n",
    "inaugural 2007 ICC World Twenty20, the 2010 and 2016 Asia Cups, the 2011 ICC Cricket World Cup and the 2013 ICC Champions \n",
    "Trophy. A right-handed middle-order batsman and wicket-keeper, Dhoni is one of the highest run scorers in One Day Internationals\n",
    "(ODIs) with more than 10,000 runs scored and is considered an effective \"finisher\" in limited-overs formats.He is also\n",
    "regarded by some as one of the best wicket-keepers and captains in modern limited-overs international cricket.\n",
    "He was also the first wicketkeeper to effect 100 stumpings in ODI cricket.\n",
    "Dhoni made his ODI debut in December 2004 against Bangladesh, and played his first Test a year later against Sri Lanka.\n",
    "He has been the recipient of many awards, including the ICC ODI Player of the Year award in 2008 and 2009 \n",
    "(the first player to win the award twice), the Rajiv Gandhi Khel Ratna award in 2007, the Padma Shri, India's fourth highest \n",
    "civilian honour, in 2009 and the Padma Bhushan, India's third highest civilian honour, in 2018.Dhoni was named as the \n",
    "captain of the ICC World Test XI in 2009, 2010 and 2013. He has also been selected a record 8 times in ICC World ODI XI teams, \n",
    "5 times as captain. The Indian Territorial Army conferred the honorary rank of Lieutenant Colonel to Dhoni on 1 November 2011.\n",
    "He is the second Indian cricketer after Kapil Dev to receive this honour.\n",
    "\"\"\""
   ]
  },
  {
   "cell_type": "code",
   "execution_count": 3,
   "metadata": {},
   "outputs": [],
   "source": [
    "ner_tagger = StanfordNERTagger(model, jar, encoding='utf8')"
   ]
  },
  {
   "cell_type": "code",
   "execution_count": 4,
   "metadata": {},
   "outputs": [],
   "source": [
    "words = nltk.word_tokenize(text)"
   ]
  },
  {
   "cell_type": "code",
   "execution_count": 5,
   "metadata": {},
   "outputs": [
    {
     "name": "stdout",
     "output_type": "stream",
     "text": [
      "[('Mahendra', 'PERSON'), ('Singh', 'PERSON'), ('Dhoni', 'PERSON'), ('(', 'O'), ('born', 'O'), ('7', 'O'), ('July', 'DATE'), ('1981', 'DATE'), (')', 'O'), (',', 'O'), ('is', 'O'), ('a', 'O'), ('former', 'O'), ('Indian', 'O'), ('international', 'O'), ('cricketer', 'O'), ('who', 'O'), ('captained', 'O'), ('the', 'O'), ('Indian', 'O'), ('national', 'O'), ('team', 'O'), ('in', 'O'), ('limited-overs', 'O'), ('formats', 'O'), ('from', 'O'), ('2007', 'DATE'), ('to', 'O'), ('2016', 'DATE'), ('and', 'O'), ('in', 'O'), ('Test', 'O'), ('cricket', 'O'), ('from', 'O'), ('2008', 'DATE'), ('to', 'O'), ('2014', 'DATE'), ('.', 'O'), ('Under', 'O'), ('his', 'O'), ('captaincy', 'O'), (',', 'O'), ('India', 'LOCATION'), ('won', 'O'), ('the', 'O'), ('inaugural', 'O'), ('2007', 'DATE'), ('ICC', 'O'), ('World', 'O'), ('Twenty20', 'O'), (',', 'O'), ('the', 'O'), ('2010', 'DATE'), ('and', 'O'), ('2016', 'DATE'), ('Asia', 'O'), ('Cups', 'O'), (',', 'O'), ('the', 'O'), ('2011', 'DATE'), ('ICC', 'O'), ('Cricket', 'O'), ('World', 'O'), ('Cup', 'O'), ('and', 'O'), ('the', 'O'), ('2013', 'DATE'), ('ICC', 'O'), ('Champions', 'O'), ('Trophy', 'O'), ('.', 'O'), ('A', 'O'), ('right-handed', 'O'), ('middle-order', 'O'), ('batsman', 'O'), ('and', 'O'), ('wicket-keeper', 'O'), (',', 'O'), ('Dhoni', 'PERSON'), ('is', 'O'), ('one', 'O'), ('of', 'O'), ('the', 'O'), ('highest', 'O'), ('run', 'O'), ('scorers', 'O'), ('in', 'O'), ('One', 'O'), ('Day', 'O'), ('Internationals', 'O'), ('(', 'O'), ('ODIs', 'O'), (')', 'O'), ('with', 'O'), ('more', 'O'), ('than', 'O'), ('10,000', 'O'), ('runs', 'O'), ('scored', 'O'), ('and', 'O'), ('is', 'O'), ('considered', 'O'), ('an', 'O'), ('effective', 'O'), ('``', 'O'), ('finisher', 'O'), (\"''\", 'O'), ('in', 'O'), ('limited-overs', 'O'), ('formats.He', 'O'), ('is', 'O'), ('also', 'O'), ('regarded', 'O'), ('by', 'O'), ('some', 'O'), ('as', 'O'), ('one', 'O'), ('of', 'O'), ('the', 'O'), ('best', 'O'), ('wicket-keepers', 'O'), ('and', 'O'), ('captains', 'O'), ('in', 'O'), ('modern', 'O'), ('limited-overs', 'O'), ('international', 'O'), ('cricket', 'O'), ('.', 'O'), ('He', 'O'), ('was', 'O'), ('also', 'O'), ('the', 'O'), ('first', 'O'), ('wicketkeeper', 'O'), ('to', 'O'), ('effect', 'O'), ('100', 'O'), ('stumpings', 'O'), ('in', 'O'), ('ODI', 'O'), ('cricket', 'O'), ('.', 'O'), ('Dhoni', 'O'), ('made', 'O'), ('his', 'O'), ('ODI', 'ORGANIZATION'), ('debut', 'O'), ('in', 'O'), ('December', 'DATE'), ('2004', 'DATE'), ('against', 'O'), ('Bangladesh', 'LOCATION'), (',', 'O'), ('and', 'O'), ('played', 'O'), ('his', 'O'), ('first', 'O'), ('Test', 'O'), ('a', 'O'), ('year', 'O'), ('later', 'O'), ('against', 'O'), ('Sri', 'LOCATION'), ('Lanka', 'LOCATION'), ('.', 'O'), ('He', 'O'), ('has', 'O'), ('been', 'O'), ('the', 'O'), ('recipient', 'O'), ('of', 'O'), ('many', 'O'), ('awards', 'O'), (',', 'O'), ('including', 'O'), ('the', 'O'), ('ICC', 'ORGANIZATION'), ('ODI', 'O'), ('Player', 'O'), ('of', 'O'), ('the', 'O'), ('Year', 'O'), ('award', 'O'), ('in', 'O'), ('2008', 'DATE'), ('and', 'O'), ('2009', 'DATE'), ('(', 'O'), ('the', 'O'), ('first', 'O'), ('player', 'O'), ('to', 'O'), ('win', 'O'), ('the', 'O'), ('award', 'O'), ('twice', 'O'), (')', 'O'), (',', 'O'), ('the', 'O'), ('Rajiv', 'PERSON'), ('Gandhi', 'PERSON'), ('Khel', 'PERSON'), ('Ratna', 'PERSON'), ('award', 'O'), ('in', 'O'), ('2007', 'DATE'), (',', 'O'), ('the', 'O'), ('Padma', 'LOCATION'), ('Shri', 'LOCATION'), (',', 'O'), ('India', 'LOCATION'), (\"'s\", 'O'), ('fourth', 'O'), ('highest', 'O'), ('civilian', 'O'), ('honour', 'O'), (',', 'O'), ('in', 'O'), ('2009', 'DATE'), ('and', 'O'), ('the', 'O'), ('Padma', 'PERSON'), ('Bhushan', 'PERSON'), (',', 'O'), ('India', 'LOCATION'), (\"'s\", 'O'), ('third', 'O'), ('highest', 'O'), ('civilian', 'O'), ('honour', 'O'), (',', 'O'), ('in', 'O'), ('2018.Dhoni', 'O'), ('was', 'O'), ('named', 'O'), ('as', 'O'), ('the', 'O'), ('captain', 'O'), ('of', 'O'), ('the', 'O'), ('ICC', 'ORGANIZATION'), ('World', 'O'), ('Test', 'O'), ('XI', 'O'), ('in', 'O'), ('2009', 'DATE'), (',', 'O'), ('2010', 'DATE'), ('and', 'O'), ('2013', 'DATE'), ('.', 'O'), ('He', 'O'), ('has', 'O'), ('also', 'O'), ('been', 'O'), ('selected', 'O'), ('a', 'O'), ('record', 'O'), ('8', 'O'), ('times', 'O'), ('in', 'O'), ('ICC', 'ORGANIZATION'), ('World', 'O'), ('ODI', 'O'), ('XI', 'O'), ('teams', 'O'), (',', 'O'), ('5', 'O'), ('times', 'O'), ('as', 'O'), ('captain', 'O'), ('.', 'O'), ('The', 'O'), ('Indian', 'O'), ('Territorial', 'O'), ('Army', 'ORGANIZATION'), ('conferred', 'O'), ('the', 'O'), ('honorary', 'O'), ('rank', 'O'), ('of', 'O'), ('Lieutenant', 'O'), ('Colonel', 'O'), ('to', 'O'), ('Dhoni', 'LOCATION'), ('on', 'O'), ('1', 'O'), ('November', 'DATE'), ('2011', 'DATE'), ('.', 'O'), ('He', 'O'), ('is', 'O'), ('the', 'O'), ('second', 'O'), ('Indian', 'O'), ('cricketer', 'O'), ('after', 'O'), ('Kapil', 'ORGANIZATION'), ('Dev', 'ORGANIZATION'), ('to', 'O'), ('receive', 'O'), ('this', 'O'), ('honour', 'O'), ('.', 'O')]\n"
     ]
    }
   ],
   "source": [
    "print(ner_tagger.tag(words))"
   ]
  },
  {
   "cell_type": "code",
   "execution_count": null,
   "metadata": {},
   "outputs": [],
   "source": []
  }
 ],
 "metadata": {
  "kernelspec": {
   "display_name": "Python 3",
   "language": "python",
   "name": "python3"
  },
  "language_info": {
   "codemirror_mode": {
    "name": "ipython",
    "version": 3
   },
   "file_extension": ".py",
   "mimetype": "text/x-python",
   "name": "python",
   "nbconvert_exporter": "python",
   "pygments_lexer": "ipython3",
   "version": "3.7.4"
  }
 },
 "nbformat": 4,
 "nbformat_minor": 2
}
