{
 "cells": [
  {
   "cell_type": "code",
   "execution_count": 1,
   "metadata": {},
   "outputs": [],
   "source": [
    "import spacy"
   ]
  },
  {
   "cell_type": "code",
   "execution_count": 2,
   "metadata": {},
   "outputs": [],
   "source": [
    "nip = spacy.load(\"en\")"
   ]
  },
  {
   "cell_type": "code",
   "execution_count": null,
   "metadata": {},
   "outputs": [],
   "source": [
    "text = \"\"\"\n",
    "Mahendra Singh Dhoni (born 7 July 1981), is a former Indian international cricketer who captained the Indian national\n",
    "team in limited-overs formats from 2007 to 2016 and in Test cricket from 2008 to 2014. Under his captaincy, India won the \n",
    "inaugural 2007 ICC World Twenty20, the 2010 and 2016 Asia Cups, the 2011 ICC Cricket World Cup and the 2013 ICC Champions \n",
    "Trophy. A right-handed middle-order batsman and wicket-keeper, Dhoni is one of the highest run scorers in One Day Internationals\n",
    "(ODIs) with more than 10,000 runs scored and is considered an effective \"finisher\" in limited-overs formats.He is also\n",
    "regarded by some as one of the best wicket-keepers and captains in modern limited-overs international cricket.\n",
    "He was also the first wicketkeeper to effect 100 stumpings in ODI cricket.\n",
    "Dhoni made his ODI debut in December 2004 against Bangladesh, and played his first Test a year later against Sri Lanka.\n",
    "He has been the recipient of many awards, including the ICC ODI Player of the Year award in 2008 and 2009 \n",
    "(the first player to win the award twice), the Rajiv Gandhi Khel Ratna award in 2007, the Padma Shri, India's fourth highest \n",
    "civilian honour, in 2009 and the Padma Bhushan, India's third highest civilian honour, in 2018.Dhoni was named as the \n",
    "captain of the ICC World Test XI in 2009, 2010 and 2013. He has also been selected a record 8 times in ICC World ODI XI teams, \n",
    "5 times as captain. The Indian Territorial Army conferred the honorary rank of Lieutenant Colonel to Dhoni on 1 November 2011.\n",
    "He is the second Indian cricketer after Kapil Dev to receive this honour.\n",
    "\"\"\""
   ]
  }
 ],
 "metadata": {
  "kernelspec": {
   "display_name": "Python 3",
   "language": "python",
   "name": "python3"
  },
  "language_info": {
   "codemirror_mode": {
    "name": "ipython",
    "version": 3
   },
   "file_extension": ".py",
   "mimetype": "text/x-python",
   "name": "python",
   "nbconvert_exporter": "python",
   "pygments_lexer": "ipython3",
   "version": "3.7.4"
  }
 },
 "nbformat": 4,
 "nbformat_minor": 2
}
